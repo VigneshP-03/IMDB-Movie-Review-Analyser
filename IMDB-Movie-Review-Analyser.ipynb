{
  "cells": [
    {
      "cell_type": "markdown",
      "metadata": {
        "id": "siSPyc8PDOW1"
      },
      "source": [
        "# Importing needed libraries"
      ]
    },
    {
      "cell_type": "code",
      "execution_count": null,
      "metadata": {
        "id": "kGcNNODDvlrX"
      },
      "outputs": [],
      "source": [
        "import numpy as np\n",
        "import pandas as pd\n",
        "import seaborn as sns\n",
        "import matplotlib.pyplot as plt"
      ]
    },
    {
      "cell_type": "markdown",
      "metadata": {
        "id": "qpPYYe5pDXeR"
      },
      "source": [
        "# Reading the dataset"
      ]
    },
    {
      "cell_type": "code",
      "execution_count": null,
      "metadata": {
        "colab": {
          "base_uri": "https://localhost:8080/",
          "height": 435
        },
        "id": "id0zzitvv3f2",
        "outputId": "3a9184e4-8a7b-4382-ce04-d3012157d124"
      },
      "outputs": [],
      "source": [
        "data = pd.read_csv(\"/content/IMDB-Dataset.csv\", engine=\"python\", error_bad_lines=False,)\n",
        "data.head()"
      ]
    },
    {
      "cell_type": "markdown",
      "metadata": {
        "id": "N1JTNAMpwr1M"
      },
      "source": [
        "# Data Visualization\n"
      ]
    },
    {
      "cell_type": "code",
      "execution_count": null,
      "metadata": {
        "colab": {
          "base_uri": "https://localhost:8080/",
          "height": 140
        },
        "id": "CjLdj1UPz88o",
        "outputId": "dce438be-a160-49e4-8050-d76a4b9cc776"
      },
      "outputs": [],
      "source": [
        "data['review'][1]"
      ]
    },
    {
      "cell_type": "code",
      "execution_count": null,
      "metadata": {
        "colab": {
          "base_uri": "https://localhost:8080/",
          "height": 36
        },
        "id": "3PPbGxX6z9Gh",
        "outputId": "04a90c26-0710-403f-a238-ac1ba074e55a"
      },
      "outputs": [],
      "source": [
        "data['sentiment'][1]"
      ]
    },
    {
      "cell_type": "code",
      "execution_count": null,
      "metadata": {
        "colab": {
          "base_uri": "https://localhost:8080/",
          "height": 206
        },
        "id": "LnvepK1zwuld",
        "outputId": "660777ca-161d-42d2-95db-d143ac21ec88"
      },
      "outputs": [],
      "source": [
        "data['sentiment'].replace('positive',1,inplace=True)\n",
        "data['sentiment'].replace('negative',0,inplace=True)\n",
        "data.head()"
      ]
    },
    {
      "cell_type": "code",
      "execution_count": null,
      "metadata": {
        "colab": {
          "base_uri": "https://localhost:8080/"
        },
        "id": "zNkCmoQo2jp1",
        "outputId": "b4e5902d-f254-48de-d1ad-5b4e7e7e73c9"
      },
      "outputs": [],
      "source": [
        "negative_sentiment = []\n",
        "positive_sentiment = []\n",
        "total_length = len(data['sentiment'])\n",
        "total_length"
      ]
    },
    {
      "cell_type": "code",
      "execution_count": null,
      "metadata": {
        "colab": {
          "base_uri": "https://localhost:8080/",
          "height": 296
        },
        "id": "fZBFeZaPxQUa",
        "outputId": "f2c209c3-41e7-4dd7-f0ce-f872cd54f806"
      },
      "outputs": [],
      "source": [
        "sns.violinplot(x='sentiment',data=data)"
      ]
    },
    {
      "cell_type": "markdown",
      "metadata": {
        "id": "6YFS1v_GxeJL"
      },
      "source": [
        "# Data Preprocessing"
      ]
    },
    {
      "cell_type": "code",
      "execution_count": null,
      "metadata": {
        "colab": {
          "base_uri": "https://localhost:8080/"
        },
        "id": "YC34vQTZxcZx",
        "outputId": "487d4d8f-f6a4-43f2-9e6e-f26dd988dc05"
      },
      "outputs": [],
      "source": [
        "columns = []\n",
        "for i in data.columns:\n",
        "  columns.append(i)\n",
        "print(columns)"
      ]
    },
    {
      "cell_type": "code",
      "execution_count": null,
      "metadata": {
        "colab": {
          "base_uri": "https://localhost:8080/"
        },
        "id": "BBV2b4zK340j",
        "outputId": "be9e995c-2641-4255-b574-5144084e7816"
      },
      "outputs": [],
      "source": [
        "for i in data.columns[1]:\n",
        "  if i==1:\n",
        "    positive_sentiment.append(i)\n",
        "  else:\n",
        "    negative_sentiment.append(i)\n",
        "\n",
        "print(len(positive_sentiment), len(negative_sentiment))"
      ]
    },
    {
      "cell_type": "code",
      "execution_count": null,
      "metadata": {
        "colab": {
          "base_uri": "https://localhost:8080/"
        },
        "id": "0w0--yhIxcdO",
        "outputId": "16b34ebe-3377-46c9-ddd9-661f030a1126"
      },
      "outputs": [],
      "source": [
        "data.isnull().sum()"
      ]
    },
    {
      "cell_type": "code",
      "execution_count": null,
      "metadata": {
        "colab": {
          "base_uri": "https://localhost:8080/"
        },
        "id": "fcNZxxz4xvpz",
        "outputId": "1ccbaf11-dd82-4bbc-fece-d0a5393fee7c"
      },
      "outputs": [],
      "source": [
        "data.shape"
      ]
    },
    {
      "cell_type": "code",
      "execution_count": null,
      "metadata": {
        "colab": {
          "base_uri": "https://localhost:8080/",
          "height": 300
        },
        "id": "QUIejPx8x7DB",
        "outputId": "645c38ef-232b-4db2-9125-48e637cfe80a"
      },
      "outputs": [],
      "source": [
        "data.describe()"
      ]
    },
    {
      "cell_type": "code",
      "execution_count": null,
      "metadata": {
        "colab": {
          "base_uri": "https://localhost:8080/"
        },
        "id": "9Xp6JyQI5pu1",
        "outputId": "6ff0cfa6-3e5a-47b3-a7f4-5e0011665def"
      },
      "outputs": [],
      "source": [
        "data.info()"
      ]
    },
    {
      "cell_type": "code",
      "execution_count": null,
      "metadata": {
        "colab": {
          "base_uri": "https://localhost:8080/"
        },
        "id": "wQkr7qTZ5s9W",
        "outputId": "250f613c-b40a-4f83-8c9c-cac98f49159b"
      },
      "outputs": [],
      "source": [
        "# finding the biggest data in the dataset\n",
        "\n",
        "big = data['review'][0]\n",
        "for i in data['review']:\n",
        "  if len(i) > len(big):\n",
        "    big = i\n",
        "print(big)"
      ]
    },
    {
      "cell_type": "code",
      "execution_count": null,
      "metadata": {
        "colab": {
          "base_uri": "https://localhost:8080/"
        },
        "id": "RajTBy8f61c9",
        "outputId": "d9e3856f-7acb-4d79-97e2-bf7194e6b37b"
      },
      "outputs": [],
      "source": [
        "# finding the smallest data in the dataset\n",
        "\n",
        "small = data['review'][0]\n",
        "for i in data['review']:\n",
        "  if len(i) < len(small):\n",
        "    small = i\n",
        "print(small)"
      ]
    },
    {
      "cell_type": "markdown",
      "metadata": {
        "id": "xsj8wSEw7L-u"
      },
      "source": [
        "# Text Preprocessing"
      ]
    },
    {
      "cell_type": "code",
      "execution_count": null,
      "metadata": {
        "id": "pjeBlOkn7MQc"
      },
      "outputs": [],
      "source": [
        "from tensorflow import keras\n",
        "from keras.preprocessing.text import Tokenizer"
      ]
    },
    {
      "cell_type": "code",
      "execution_count": null,
      "metadata": {
        "id": "7Cfg0jtB7jHj"
      },
      "outputs": [],
      "source": [
        "x = data[\"review\"] #input\n",
        "y = data[\"sentiment\"] # output"
      ]
    },
    {
      "cell_type": "code",
      "execution_count": null,
      "metadata": {
        "colab": {
          "base_uri": "https://localhost:8080/"
        },
        "id": "eZdxWmbY8lZT",
        "outputId": "1a30069c-7ed7-48f4-9f8f-84d3c13d7b03"
      },
      "outputs": [],
      "source": [
        "tokenizer = Tokenizer(10000,lower=True)\n",
        "tokenizer.fit_on_texts(x)\n",
        "len(x[1])"
      ]
    },
    {
      "cell_type": "code",
      "execution_count": null,
      "metadata": {
        "colab": {
          "base_uri": "https://localhost:8080/"
        },
        "id": "XEumuaK49eQK",
        "outputId": "b5b68dd6-c390-4deb-a756-da8e6e9c1584"
      },
      "outputs": [],
      "source": [
        "sequence = tokenizer.texts_to_sequences(x)\n",
        "len(sequence[1])"
      ]
    },
    {
      "cell_type": "code",
      "execution_count": null,
      "metadata": {
        "id": "8NCq3TO3-aTc"
      },
      "outputs": [],
      "source": [
        "from keras.preprocessing.sequence import pad_sequences"
      ]
    },
    {
      "cell_type": "code",
      "execution_count": null,
      "metadata": {
        "id": "BuJQR7gu-iyn"
      },
      "outputs": [],
      "source": [
        "encoded_sequence = pad_sequences(sequence,maxlen=200,padding='pre')\n",
        "encoded_sequence[1]"
      ]
    },
    {
      "cell_type": "code",
      "execution_count": null,
      "metadata": {
        "id": "fTPjxcD7-1ce"
      },
      "outputs": [],
      "source": [
        "final_input = encoded_sequence\n",
        "final_output = np.array(y)"
      ]
    },
    {
      "cell_type": "code",
      "execution_count": null,
      "metadata": {
        "colab": {
          "base_uri": "https://localhost:8080/"
        },
        "id": "wSDgLb8V-1kf",
        "outputId": "7bb04c46-e663-488b-82e9-dd3d738c2e42"
      },
      "outputs": [],
      "source": [
        "final_output"
      ]
    },
    {
      "cell_type": "code",
      "execution_count": null,
      "metadata": {
        "id": "pa7HcyuV-1tn"
      },
      "outputs": [],
      "source": [
        "from sklearn.model_selection import train_test_split"
      ]
    },
    {
      "cell_type": "code",
      "execution_count": null,
      "metadata": {
        "colab": {
          "base_uri": "https://localhost:8080/"
        },
        "id": "uNgsQJIm_aW4",
        "outputId": "1cde0528-560a-4119-8947-c2bc4c51c800"
      },
      "outputs": [],
      "source": [
        "x_train, x_test, y_train, y_test = train_test_split(final_input,final_output, test_size=0.33, random_state=42)\n",
        "print(x_train.shape,y_train.shape)"
      ]
    },
    {
      "cell_type": "code",
      "execution_count": null,
      "metadata": {
        "id": "IQ_Kqoth_svN"
      },
      "outputs": [],
      "source": [
        "from keras.models import Sequential\n",
        "from keras.layers import LSTM,Bidirectional,Dropout,Dense,Embedding"
      ]
    },
    {
      "cell_type": "code",
      "execution_count": null,
      "metadata": {
        "colab": {
          "base_uri": "https://localhost:8080/"
        },
        "id": "9i8TMk70_vwo",
        "outputId": "d8e06ca9-6d9e-4004-bcc6-a6a40076a05e"
      },
      "outputs": [],
      "source": [
        "model = Sequential()\n",
        "model.add(\n",
        "    Embedding(\n",
        "        input_dim=10000,\n",
        "        output_dim=120,\n",
        "        input_length=200,\n",
        "    ),)\n",
        "model.add(\n",
        "    Bidirectional(LSTM(64, return_sequences=True))\n",
        ")\n",
        "model.add(Bidirectional(LSTM(32)))\n",
        "model.add(Dense(1))\n",
        "\n",
        "model.summary()"
      ]
    },
    {
      "cell_type": "code",
      "execution_count": null,
      "metadata": {
        "id": "xNbBu7dn_v6l"
      },
      "outputs": [],
      "source": [
        "model.compile(optimizer='adam',loss='binary_crossentropy',metrics=['accuracy'])"
      ]
    },
    {
      "cell_type": "code",
      "execution_count": null,
      "metadata": {
        "colab": {
          "base_uri": "https://localhost:8080/"
        },
        "id": "VrobisSU_wDH",
        "outputId": "d662636d-5e09-4d39-a327-8a1774487dc5"
      },
      "outputs": [],
      "source": [
        "prediction = model.fit(x_train,y_train,validation_data=(x_test,y_test),epochs=2,batch_size=32)"
      ]
    },
    {
      "cell_type": "code",
      "execution_count": null,
      "metadata": {
        "colab": {
          "base_uri": "https://localhost:8080/",
          "height": 265
        },
        "id": "qLqlIpnXAsV3",
        "outputId": "42429b98-facf-47ae-a36f-66f2ac4d6358"
      },
      "outputs": [],
      "source": [
        "plt.plot(prediction.history['loss'],label='train')\n",
        "plt.plot(prediction.history['val_loss'],label='validation')\n",
        "plt.legend(loc='best')\n",
        "plt.show()"
      ]
    },
    {
      "cell_type": "code",
      "execution_count": null,
      "metadata": {
        "colab": {
          "base_uri": "https://localhost:8080/",
          "height": 265
        },
        "id": "BikTzIh0AwtC",
        "outputId": "baa5eeff-5233-430a-f26e-436306b53bae"
      },
      "outputs": [],
      "source": [
        "plt.plot(prediction.history['accuracy'],label='train')\n",
        "plt.plot(prediction.history['val_accuracy'],label='validation')\n",
        "plt.legend(loc='best')\n",
        "plt.show()"
      ]
    },
    {
      "cell_type": "code",
      "execution_count": null,
      "metadata": {
        "id": "cQCzP-D3Aw1V"
      },
      "outputs": [],
      "source": [
        "model.save(\"imdb review.h5\")"
      ]
    },
    {
      "cell_type": "markdown",
      "metadata": {
        "id": "0DlQbPaHDQay"
      },
      "source": [
        "# Creating Custom review predictor bot"
      ]
    },
    {
      "cell_type": "code",
      "execution_count": null,
      "metadata": {
        "id": "fjgZO5aGDeYh"
      },
      "outputs": [],
      "source": [
        "def imdb_bot(review):\n",
        "  sentence_list = []\n",
        "  sentence_list.append(review)\n",
        "  sequence = tokenizer.texts_to_sequences(sentence_list)\n",
        "  input = pad_sequences(sequence,maxlen=200,padding='pre')\n",
        "  predict_x = model.predict(input)\n",
        "  output = np.argmax(predict_x,axis=1)\n",
        "  if output.all() == 1:\n",
        "    print(\"The reviews are good you should watch this\")\n",
        "  if output\n",
        "    print(\"The reviews are not quite good you should try another one\")"
      ]
    },
    {
      "cell_type": "code",
      "execution_count": null,
      "metadata": {
        "colab": {
          "base_uri": "https://localhost:8080/"
        },
        "id": "7SrgptfeDiIc",
        "outputId": "d012f83c-67c4-4ce2-ea2b-20dc1ab04907"
      },
      "outputs": [],
      "source": [
        "imdb_bot(\"interstellar\")"
      ]
    }
  ],
  "metadata": {
    "colab": {
      "collapsed_sections": [
        "N1JTNAMpwr1M",
        "6YFS1v_GxeJL"
      ],
      "provenance": []
    },
    "kernelspec": {
      "display_name": "Python 3",
      "name": "python3"
    },
    "language_info": {
      "name": "python"
    }
  },
  "nbformat": 4,
  "nbformat_minor": 0
}
